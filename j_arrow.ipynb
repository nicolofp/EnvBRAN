{
 "cells": [
  {
   "cell_type": "raw",
   "id": "0a6514c3",
   "metadata": {},
   "source": [
    "---\n",
    "title: \"Arrow with Julia\"\n",
    "author: \"Nicol&oacute; Foppa Pedretti\"\n",
    "format:\n",
    "  gfm:\n",
    "    df-print: paged  \n",
    "    html-math-method: webtex\n",
    "jupyter: julia\n",
    "---"
   ]
  },
  {
   "cell_type": "code",
   "execution_count": 4,
   "id": "00dd55ad",
   "metadata": {},
   "outputs": [],
   "source": [
    "using DataFrames, Statistics, LinearAlgebra, Plots, CategoricalArrays, UMAP \n",
    "using Distributions, StatsPlots, StatsBase, TSne, CSV, Optim, Arrow, Parquet"
   ]
  },
  {
   "cell_type": "code",
   "execution_count": 2,
   "id": "7a0fbbfc",
   "metadata": {},
   "outputs": [
    {
     "data": {
      "text/html": [
       "<table class=\"data-frame\"><thead><tr><th></th><th>ID</th><th>tissue</th><th>species</th><th>infant gender</th><th>maternal age</th><th>birth weight (grams)</th></tr><tr><th></th><th>String?</th><th>String?</th><th>String?</th><th>String?</th><th>Float64?</th><th>Float64?</th></tr></thead><tbody><p>343 rows × 29 columns (omitted printing of 23 columns)</p><tr><th>1</th><td>GSM1842804</td><td>Human placenta</td><td>Homo sapiens</td><td>Female</td><td>35.2991</td><td>3170.0</td></tr><tr><th>2</th><td>GSM1842805</td><td>Human placenta</td><td>Homo sapiens</td><td>Female</td><td>30.705</td><td>3350.0</td></tr><tr><th>3</th><td>GSM1842806</td><td>Human placenta</td><td>Homo sapiens</td><td>Female</td><td>24.3504</td><td>3345.23</td></tr><tr><th>4</th><td>GSM1842807</td><td>Human placenta</td><td>Homo sapiens</td><td>Male</td><td>23.7344</td><td>4005.0</td></tr><tr><th>5</th><td>GSM1842808</td><td>Human placenta</td><td>Homo sapiens</td><td>Male</td><td>27.2663</td><td>4507.55</td></tr><tr><th>6</th><td>GSM1842809</td><td>Human placenta</td><td>Homo sapiens</td><td>Male</td><td>35.1704</td><td>3945.0</td></tr><tr><th>7</th><td>GSM1842810</td><td>Human placenta</td><td>Homo sapiens</td><td>Female</td><td>32.1999</td><td>2800.0</td></tr><tr><th>8</th><td>GSM1842811</td><td>Human placenta</td><td>Homo sapiens</td><td>Male</td><td>36.8296</td><td>3610.0</td></tr><tr><th>9</th><td>GSM1842812</td><td>Human placenta</td><td>Homo sapiens</td><td>Female</td><td>28.4901</td><td>3769.0</td></tr><tr><th>10</th><td>GSM1842813</td><td>Human placenta</td><td>Homo sapiens</td><td>Female</td><td>26.5982</td><td>3215.0</td></tr><tr><th>11</th><td>GSM1842814</td><td>Human placenta</td><td>Homo sapiens</td><td>Male</td><td>29.3224</td><td>3491.0</td></tr><tr><th>12</th><td>GSM1842815</td><td>Human placenta</td><td>Homo sapiens</td><td>Male</td><td>33.9329</td><td>3647.0</td></tr><tr><th>13</th><td>GSM1842816</td><td>Human placenta</td><td>Homo sapiens</td><td>Male</td><td>37.0678</td><td>3220.0</td></tr><tr><th>14</th><td>GSM1842817</td><td>Human placenta</td><td>Homo sapiens</td><td>Female</td><td>39.3758</td><td>1956.11</td></tr><tr><th>15</th><td>GSM1842818</td><td>Human placenta</td><td>Homo sapiens</td><td>Male</td><td>32.2409</td><td>3085.0</td></tr><tr><th>16</th><td>GSM1842819</td><td>Human placenta</td><td>Homo sapiens</td><td>Male</td><td>31.2799</td><td>3626.0</td></tr><tr><th>17</th><td>GSM1842820</td><td>Human placenta</td><td>Homo sapiens</td><td>Female</td><td>41.5633</td><td>2671.0</td></tr><tr><th>18</th><td>GSM1842821</td><td>Human placenta</td><td>Homo sapiens</td><td>Male</td><td>33.8864</td><td>4098.0</td></tr><tr><th>19</th><td>GSM1842822</td><td>Human placenta</td><td>Homo sapiens</td><td>Female</td><td>35.0418</td><td>3209.0</td></tr><tr><th>20</th><td>GSM1842823</td><td>Human placenta</td><td>Homo sapiens</td><td>Male</td><td>27.2389</td><td>3470.0</td></tr><tr><th>21</th><td>GSM1842824</td><td>Human placenta</td><td>Homo sapiens</td><td>Male</td><td>22.0479</td><td>3170.0</td></tr><tr><th>22</th><td>GSM1842825</td><td>Human placenta</td><td>Homo sapiens</td><td>Female</td><td>29.3634</td><td>3087.0</td></tr><tr><th>23</th><td>GSM1842826</td><td>Human placenta</td><td>Homo sapiens</td><td>Female</td><td>24.4271</td><td>3630.0</td></tr><tr><th>24</th><td>GSM1842827</td><td>Human placenta</td><td>Homo sapiens</td><td>Female</td><td>32.2272</td><td>3543.67</td></tr><tr><th>25</th><td>GSM1842828</td><td>Human placenta</td><td>Homo sapiens</td><td>Female</td><td>28.616</td><td>3444.0</td></tr><tr><th>26</th><td>GSM1842829</td><td>Human placenta</td><td>Homo sapiens</td><td>Male</td><td>28.6188</td><td>4565.0</td></tr><tr><th>27</th><td>GSM1842830</td><td>Human placenta</td><td>Homo sapiens</td><td>Male</td><td>28.9172</td><td>3705.0</td></tr><tr><th>28</th><td>GSM1842831</td><td>Human placenta</td><td>Homo sapiens</td><td>Male</td><td>23.0609</td><td>3840.0</td></tr><tr><th>29</th><td>GSM1842832</td><td>Human placenta</td><td>Homo sapiens</td><td>Male</td><td>26.4559</td><td>4224.06</td></tr><tr><th>30</th><td>GSM1842833</td><td>Human placenta</td><td>Homo sapiens</td><td>Male</td><td>36.909</td><td>2940.0</td></tr><tr><th>&vellip;</th><td>&vellip;</td><td>&vellip;</td><td>&vellip;</td><td>&vellip;</td><td>&vellip;</td><td>&vellip;</td></tr></tbody></table>"
      ],
      "text/latex": [
       "\\begin{tabular}{r|ccccccc}\n",
       "\t& ID & tissue & species & infant gender & maternal age & birth weight (grams) & \\\\\n",
       "\t\\hline\n",
       "\t& String? & String? & String? & String? & Float64? & Float64? & \\\\\n",
       "\t\\hline\n",
       "\t1 & GSM1842804 & Human placenta & Homo sapiens & Female & 35.2991 & 3170.0 & $\\dots$ \\\\\n",
       "\t2 & GSM1842805 & Human placenta & Homo sapiens & Female & 30.705 & 3350.0 & $\\dots$ \\\\\n",
       "\t3 & GSM1842806 & Human placenta & Homo sapiens & Female & 24.3504 & 3345.23 & $\\dots$ \\\\\n",
       "\t4 & GSM1842807 & Human placenta & Homo sapiens & Male & 23.7344 & 4005.0 & $\\dots$ \\\\\n",
       "\t5 & GSM1842808 & Human placenta & Homo sapiens & Male & 27.2663 & 4507.55 & $\\dots$ \\\\\n",
       "\t6 & GSM1842809 & Human placenta & Homo sapiens & Male & 35.1704 & 3945.0 & $\\dots$ \\\\\n",
       "\t7 & GSM1842810 & Human placenta & Homo sapiens & Female & 32.1999 & 2800.0 & $\\dots$ \\\\\n",
       "\t8 & GSM1842811 & Human placenta & Homo sapiens & Male & 36.8296 & 3610.0 & $\\dots$ \\\\\n",
       "\t9 & GSM1842812 & Human placenta & Homo sapiens & Female & 28.4901 & 3769.0 & $\\dots$ \\\\\n",
       "\t10 & GSM1842813 & Human placenta & Homo sapiens & Female & 26.5982 & 3215.0 & $\\dots$ \\\\\n",
       "\t11 & GSM1842814 & Human placenta & Homo sapiens & Male & 29.3224 & 3491.0 & $\\dots$ \\\\\n",
       "\t12 & GSM1842815 & Human placenta & Homo sapiens & Male & 33.9329 & 3647.0 & $\\dots$ \\\\\n",
       "\t13 & GSM1842816 & Human placenta & Homo sapiens & Male & 37.0678 & 3220.0 & $\\dots$ \\\\\n",
       "\t14 & GSM1842817 & Human placenta & Homo sapiens & Female & 39.3758 & 1956.11 & $\\dots$ \\\\\n",
       "\t15 & GSM1842818 & Human placenta & Homo sapiens & Male & 32.2409 & 3085.0 & $\\dots$ \\\\\n",
       "\t16 & GSM1842819 & Human placenta & Homo sapiens & Male & 31.2799 & 3626.0 & $\\dots$ \\\\\n",
       "\t17 & GSM1842820 & Human placenta & Homo sapiens & Female & 41.5633 & 2671.0 & $\\dots$ \\\\\n",
       "\t18 & GSM1842821 & Human placenta & Homo sapiens & Male & 33.8864 & 4098.0 & $\\dots$ \\\\\n",
       "\t19 & GSM1842822 & Human placenta & Homo sapiens & Female & 35.0418 & 3209.0 & $\\dots$ \\\\\n",
       "\t20 & GSM1842823 & Human placenta & Homo sapiens & Male & 27.2389 & 3470.0 & $\\dots$ \\\\\n",
       "\t21 & GSM1842824 & Human placenta & Homo sapiens & Male & 22.0479 & 3170.0 & $\\dots$ \\\\\n",
       "\t22 & GSM1842825 & Human placenta & Homo sapiens & Female & 29.3634 & 3087.0 & $\\dots$ \\\\\n",
       "\t23 & GSM1842826 & Human placenta & Homo sapiens & Female & 24.4271 & 3630.0 & $\\dots$ \\\\\n",
       "\t24 & GSM1842827 & Human placenta & Homo sapiens & Female & 32.2272 & 3543.67 & $\\dots$ \\\\\n",
       "\t25 & GSM1842828 & Human placenta & Homo sapiens & Female & 28.616 & 3444.0 & $\\dots$ \\\\\n",
       "\t26 & GSM1842829 & Human placenta & Homo sapiens & Male & 28.6188 & 4565.0 & $\\dots$ \\\\\n",
       "\t27 & GSM1842830 & Human placenta & Homo sapiens & Male & 28.9172 & 3705.0 & $\\dots$ \\\\\n",
       "\t28 & GSM1842831 & Human placenta & Homo sapiens & Male & 23.0609 & 3840.0 & $\\dots$ \\\\\n",
       "\t29 & GSM1842832 & Human placenta & Homo sapiens & Male & 26.4559 & 4224.06 & $\\dots$ \\\\\n",
       "\t30 & GSM1842833 & Human placenta & Homo sapiens & Male & 36.909 & 2940.0 & $\\dots$ \\\\\n",
       "\t$\\dots$ & $\\dots$ & $\\dots$ & $\\dots$ & $\\dots$ & $\\dots$ & $\\dots$ &  \\\\\n",
       "\\end{tabular}\n"
      ],
      "text/plain": [
       "\u001b[1m343×29 DataFrame\u001b[0m\n",
       "\u001b[1m Row \u001b[0m│\u001b[1m ID         \u001b[0m\u001b[1m tissue         \u001b[0m\u001b[1m species      \u001b[0m\u001b[1m infant gender \u001b[0m\u001b[1m maternal age \u001b[0m\u001b[1m \u001b[0m ⋯\n",
       "\u001b[1m     \u001b[0m│\u001b[90m String?    \u001b[0m\u001b[90m String?        \u001b[0m\u001b[90m String?      \u001b[0m\u001b[90m String?       \u001b[0m\u001b[90m Float64?     \u001b[0m\u001b[90m \u001b[0m ⋯\n",
       "─────┼──────────────────────────────────────────────────────────────────────────\n",
       "   1 │ GSM1842804  Human placenta  Homo sapiens  Female              35.2991   ⋯\n",
       "   2 │ GSM1842805  Human placenta  Homo sapiens  Female              30.705\n",
       "   3 │ GSM1842806  Human placenta  Homo sapiens  Female              24.3504\n",
       "   4 │ GSM1842807  Human placenta  Homo sapiens  Male                23.7344\n",
       "   5 │ GSM1842808  Human placenta  Homo sapiens  Male                27.2663   ⋯\n",
       "   6 │ GSM1842809  Human placenta  Homo sapiens  Male                35.1704\n",
       "   7 │ GSM1842810  Human placenta  Homo sapiens  Female              32.1999\n",
       "   8 │ GSM1842811  Human placenta  Homo sapiens  Male                36.8296\n",
       "   9 │ GSM1842812  Human placenta  Homo sapiens  Female              28.4901   ⋯\n",
       "  10 │ GSM1842813  Human placenta  Homo sapiens  Female              26.5982\n",
       "  11 │ GSM1842814  Human placenta  Homo sapiens  Male                29.3224\n",
       "  ⋮  │     ⋮             ⋮              ⋮              ⋮             ⋮         ⋱\n",
       " 334 │ GSM1843137  Human placenta  Homo sapiens  Female              38.8501\n",
       " 335 │ GSM1843138  Human placenta  Homo sapiens  Female              37.3361   ⋯\n",
       " 336 │ GSM1843139  Human placenta  Homo sapiens  Male                30.6995\n",
       " 337 │ GSM1843140  Human placenta  Homo sapiens  Male                36.2272\n",
       " 338 │ GSM1843141  Human placenta  Homo sapiens  Female              30.9049\n",
       " 339 │ GSM1843142  Human placenta  Homo sapiens  Female              33.9192   ⋯\n",
       " 340 │ GSM1843143  Human placenta  Homo sapiens  Male                29.9904\n",
       " 341 │ GSM1843144  Human placenta  Homo sapiens  Male                31.4168\n",
       " 342 │ GSM1843145  Human placenta  Homo sapiens  Female              33.306\n",
       " 343 │ GSM1843146  Human placenta  Homo sapiens  Female              36.3806   ⋯\n",
       "\u001b[36m                                                 24 columns and 322 rows omitted\u001b[0m"
      ]
     },
     "execution_count": 2,
     "metadata": {},
     "output_type": "execute_result"
    }
   ],
   "source": [
    "df = DataFrame(Arrow.Table(\"C:/Users/nicol/Documents/GSE71678/Data/processed_data/GSE71678_cov_original.arrow\"))"
   ]
  }
 ],
 "metadata": {
  "kernelspec": {
   "display_name": "Julia 1.6.1",
   "language": "julia",
   "name": "julia-1.6"
  },
  "language_info": {
   "file_extension": ".jl",
   "mimetype": "application/julia",
   "name": "julia",
   "version": "1.6.1"
  }
 },
 "nbformat": 4,
 "nbformat_minor": 5
}

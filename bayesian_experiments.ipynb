{
 "cells": [
  {
   "cell_type": "markdown",
   "id": "8dd6f481",
   "metadata": {},
   "source": [
    "# Julia Bayesian Experiments\n",
    "---\n",
    "\n",
    "Import data from **HELIX project** and analyze the mixture of the chemicals "
   ]
  },
  {
   "cell_type": "code",
   "execution_count": 1,
   "id": "ac0c43cd",
   "metadata": {},
   "outputs": [],
   "source": [
    "using DataFrames, Statistics, Turing, LinearAlgebra, Plots, CategoricalArrays, Distributions, Parquet, StatsPlots, StatsBase\n",
    "using MLDataUtils: shuffleobs, splitobs, rescale!"
   ]
  },
  {
   "cell_type": "code",
   "execution_count": 2,
   "id": "7f031193",
   "metadata": {},
   "outputs": [
    {
     "data": {
      "text/plain": [
       "bwqs_adv (generic function with 2 methods)"
      ]
     },
     "execution_count": 2,
     "metadata": {},
     "output_type": "execute_result"
    }
   ],
   "source": [
    "include(\"bayes_lib.jl\")"
   ]
  },
  {
   "cell_type": "code",
   "execution_count": 3,
   "id": "47877f21",
   "metadata": {},
   "outputs": [],
   "source": [
    "path = \"C:\\\\Users\\\\nicol\\\\Documents\\\\Metabolomics\\\\data\\\\tables_format\\\\\"\n",
    "covariates = DataFrame(read_parquet(string(path,\"covariates.parquet\")));\n",
    "phenotype = DataFrame(read_parquet(string(path,\"phenotype.parquet\")));"
   ]
  },
  {
   "cell_type": "code",
   "execution_count": 4,
   "id": "ec9f18a5",
   "metadata": {},
   "outputs": [
    {
     "name": "stdout",
     "output_type": "stream",
     "text": [
      "\u001b[1m241×7 DataFrame\u001b[0m\n",
      "\u001b[1m Row \u001b[0m│\u001b[1m variable_name          \u001b[0m\u001b[1m domain            \u001b[0m\u001b[1m family        \u001b[0m\u001b[1m subfamily                 \u001b[0m\u001b[1m period    \u001b[0m\u001b[1m var_type \u001b[0m\u001b[1m labelsshort \u001b[0m\n",
      "\u001b[1m     \u001b[0m│\u001b[90m String?                \u001b[0m\u001b[90m String?           \u001b[0m\u001b[90m String?       \u001b[0m\u001b[90m String?                   \u001b[0m\u001b[90m String?   \u001b[0m\u001b[90m String?  \u001b[0m\u001b[90m String?     \u001b[0m\n",
      "─────┼───────────────────────────────────────────────────────────────────────────────────────────────────────────────────────\n",
      "   1 │ h_abs_ratio_preg_Log    Outdoor exposures  Air Pollution  PMAbsorbance               Pregnancy  numeric   PMabs\n",
      "   2 │ h_no2_ratio_preg_Log    Outdoor exposures  Air Pollution  NO2                        Pregnancy  numeric   NO2\n",
      "   3 │ h_pm10_ratio_preg_None  Outdoor exposures  Air Pollution  PM10                       Pregnancy  numeric   PM10\n",
      "   4 │ h_pm25_ratio_preg_None  Outdoor exposures  Air Pollution  PM2.5                      Pregnancy  numeric   PM2.5\n",
      "   5 │ hs_no2_dy_hs_h_Log      Outdoor exposures  Air Pollution  NO2                        Postnatal  numeric   NO2(day)\n",
      "   6 │ hs_no2_wk_hs_h_Log      Outdoor exposures  Air Pollution  NO2                        Postnatal  numeric   NO2(week)\n",
      "   7 │ hs_no2_yr_hs_h_Log      Outdoor exposures  Air Pollution  NO2                        Postnatal  numeric   NO2(year)\n",
      "   8 │ hs_pm10_dy_hs_h_None    Outdoor exposures  Air Pollution  PM10                       Postnatal  numeric   PM10(day)\n",
      "   9 │ hs_pm10_wk_hs_h_None    Outdoor exposures  Air Pollution  PM10                       Postnatal  numeric   PM10(week)\n",
      "  10 │ hs_pm10_yr_hs_h_None    Outdoor exposures  Air Pollution  PM10                       Postnatal  numeric   PM10(year)\n",
      "  11 │ hs_pm25_dy_hs_h_None    Outdoor exposures  Air Pollution  PM2.5                      Postnatal  numeric   PM2.5(day)\n",
      "  ⋮  │           ⋮                     ⋮                ⋮                    ⋮                  ⋮         ⋮           ⋮\n",
      " 232 │ h_edumc_None            Covariates         Covariates     Maternal covariate         Pregnancy  factor    mEducation\n",
      " 233 │ h_native_None           Covariates         Covariates     Child covariate            Pregnancy  factor    Native\n",
      " 234 │ h_parity_None           Covariates         Covariates     Maternal covariate         Pregnancy  factor    Parity\n",
      " 235 │ hs_child_age_None       Covariates         Covariates     Child covariate            Postnatal  numeric   cAge\n",
      " 236 │ e3_bw                   Phenotype          Phenotype      Outcome at birth           Pregnancy  numeric   BW\n",
      " 237 │ hs_asthma               Phenotype          Phenotype      Outcome at 6-11 years old  Postnatal  factor    Asthma\n",
      " 238 │ hs_zbmi_who             Phenotype          Phenotype      Outcome at 6-11 years old  Postnatal  numeric   zBMI\n",
      " 239 │ hs_correct_raven        Phenotype          Phenotype      Outcome at 6-11 years old  Postnatal  numeric   IQ\n",
      " 240 │ hs_Gen_Tot              Phenotype          Phenotype      Outcome at 6-11 years old  Postnatal  numeric   Behavior\n",
      " 241 │ hs_bmi_c_cat            Phenotype          Phenotype      Outcome at 6-11 years old  Postnatal  factor    BMI_cat\n",
      "\u001b[36m                                                                                                             220 rows omitted\u001b[0m"
     ]
    }
   ],
   "source": [
    "codebook = DataFrame(read_parquet(string(path,\"codebook.parquet\")));\n",
    "show(codebook[:,[:variable_name, :domain, :family, :subfamily, :period, \n",
    "                 :var_type, :labelsshort]],\n",
    "     allcols = true)"
   ]
  },
  {
   "cell_type": "code",
   "execution_count": 5,
   "id": "b56569bd",
   "metadata": {},
   "outputs": [
    {
     "name": "stdout",
     "output_type": "stream",
     "text": [
      "\u001b[1m72×7 DataFrame\u001b[0m\n",
      "\u001b[1m Row \u001b[0m│\u001b[1m variable_name                \u001b[0m\u001b[1m domain            \u001b[0m\u001b[1m family            \u001b[0m\u001b[1m subfamily        \u001b[0m\u001b[1m period    \u001b[0m\u001b[1m var_type \u001b[0m\u001b[1m labelsshort \u001b[0m\n",
      "\u001b[1m     \u001b[0m│\u001b[90m String?                      \u001b[0m\u001b[90m String?           \u001b[0m\u001b[90m String?           \u001b[0m\u001b[90m String?          \u001b[0m\u001b[90m String?   \u001b[0m\u001b[90m String?  \u001b[0m\u001b[90m String?     \u001b[0m\n",
      "─────┼────────────────────────────────────────────────────────────────────────────────────────────────────────────────────────\n",
      "   1 │ h_abs_ratio_preg_Log          Outdoor exposures  Air Pollution      PMAbsorbance      Pregnancy  numeric   PMabs\n",
      "   2 │ h_no2_ratio_preg_Log          Outdoor exposures  Air Pollution      NO2               Pregnancy  numeric   NO2\n",
      "   3 │ h_pm10_ratio_preg_None        Outdoor exposures  Air Pollution      PM10              Pregnancy  numeric   PM10\n",
      "   4 │ h_pm25_ratio_preg_None        Outdoor exposures  Air Pollution      PM2.5             Pregnancy  numeric   PM2.5\n",
      "   5 │ h_accesslines300_preg_dic0    Outdoor exposures  Built environment  Access            Pregnancy  numeric   BPTLine\n",
      "   6 │ h_accesspoints300_preg_Log    Outdoor exposures  Built environment  Access            Pregnancy  numeric   BPTStop\n",
      "   7 │ h_builtdens300_preg_Sqrt      Outdoor exposures  Built environment  Building density  Pregnancy  numeric   BuildDens\n",
      "   8 │ h_connind300_preg_Sqrt        Outdoor exposures  Built environment  Connectivity      Pregnancy  numeric   Connec\n",
      "   9 │ h_fdensity300_preg_Log        Outdoor exposures  Built environment  Facility          Pregnancy  numeric   FacDens\n",
      "  10 │ h_frichness300_preg_None      Outdoor exposures  Built environment  Facility          Pregnancy  numeric   FacRich\n",
      "  11 │ h_landuseshan300_preg_None    Outdoor exposures  Built environment  Land use          Pregnancy  numeric   Land use\n",
      "  ⋮  │              ⋮                        ⋮                  ⋮                 ⋮              ⋮         ⋮           ⋮\n",
      "  63 │ hs_ohminp_madj_Log2           Chemicals          Phthalates         OHMiNP            Pregnancy  numeric   OHMiNP\n",
      "  64 │ hs_oxominp_madj_Log2          Chemicals          Phthalates         OXOMINP           Pregnancy  numeric   OXOMINP\n",
      "  65 │ hs_sumDEHP_madj_Log2          Chemicals          Phthalates         DEHP              Pregnancy  numeric   SumDEHP\n",
      "  66 │ e3_asmokcigd_p_None           Chemicals          Tobacco Smoke      Tobacco Smoke     Pregnancy  numeric   Cigarette\n",
      "  67 │ h_distinvnear1_preg_Log       Outdoor exposures  Traffic            Traffic           Pregnancy  numeric   DistRoad\n",
      "  68 │ h_trafload_preg_pow1over3     Outdoor exposures  Traffic            Traffic           Pregnancy  numeric   Traffic\n",
      "  69 │ h_trafnear_preg_pow1over3     Outdoor exposures  Traffic            Traffic           Pregnancy  numeric   TrafDens\n",
      "  70 │ h_bro_preg_Log                Outdoor exposures  Water DBPs         Water DBPs        Pregnancy  numeric   Brom\n",
      "  71 │ h_clf_preg_Log                Outdoor exposures  Water DBPs         Water DBPs        Pregnancy  numeric   Chloroform\n",
      "  72 │ h_thm_preg_Log                Outdoor exposures  Water DBPs         Water DBPs        Pregnancy  numeric   THMs\n",
      "\u001b[36m                                                                                                               51 rows omitted\u001b[0m"
     ]
    }
   ],
   "source": [
    "cod1 = filter([:period, :var_type, :domain] => (x,y,z) -> x == \"Pregnancy\" && y == \"numeric\" &&\n",
    "       z != \"Covariates\" && z!= \"Phenotype\",codebook);\n",
    "show(cod1[:,[:variable_name, :domain, :family, :subfamily, :period, \n",
    "                 :var_type, :labelsshort]],\n",
    "     allcols = true)\n"
   ]
  },
  {
   "cell_type": "code",
   "execution_count": 6,
   "id": "c42d2fd5",
   "metadata": {},
   "outputs": [],
   "source": [
    "phthalates = cod1[cod1.family .== \"Metals\",:variable_name];"
   ]
  },
  {
   "cell_type": "code",
   "execution_count": 7,
   "id": "d046169b",
   "metadata": {},
   "outputs": [],
   "source": [
    "z = covariates[completecases(covariates),:]\n",
    "covart = Matrix{Float64}(z[:, phthalates]) \n",
    "target = Vector{Float64}(z[:,:e3_gac_None]);"
   ]
  },
  {
   "cell_type": "code",
   "execution_count": 8,
   "id": "77e2b809",
   "metadata": {},
   "outputs": [],
   "source": [
    "for i in 1:size(phthalates)[1]\n",
    "    covart[:,i] = ecdf(covart[:,i])(covart[:,i])*10\n",
    "end"
   ]
  },
  {
   "cell_type": "code",
   "execution_count": 9,
   "id": "fc31abca",
   "metadata": {},
   "outputs": [],
   "source": [
    "model = bwqs(covart, target)\n",
    "model_adv = bwqs_adv(covart, target);"
   ]
  },
  {
   "cell_type": "code",
   "execution_count": 10,
   "id": "635de9f9",
   "metadata": {},
   "outputs": [
    {
     "name": "stderr",
     "output_type": "stream",
     "text": [
      "┌ Warning: The current proposal will be rejected due to numerical error(s).\n",
      "│   isfinite.((θ, r, ℓπ, ℓκ)) = (true, false, false, false)\n",
      "└ @ AdvancedHMC C:\\Users\\nicol\\.julia\\packages\\AdvancedHMC\\51xgc\\src\\hamiltonian.jl:47\n",
      "┌ Warning: The current proposal will be rejected due to numerical error(s).\n",
      "│   isfinite.((θ, r, ℓπ, ℓκ)) = (true, false, false, false)\n",
      "└ @ AdvancedHMC C:\\Users\\nicol\\.julia\\packages\\AdvancedHMC\\51xgc\\src\\hamiltonian.jl:47\n",
      "┌ Info: Found initial step size\n",
      "│   ϵ = 0.00625\n",
      "└ @ Turing.Inference C:\\Users\\nicol\\.julia\\packages\\Turing\\Oczpc\\src\\inference\\hmc.jl:188\n",
      "\u001b[32mSampling: 100%|█████████████████████████████████████████| Time: 1:04:50\u001b[39m\n",
      "┌ Warning: The current proposal will be rejected due to numerical error(s).\n",
      "│   isfinite.((θ, r, ℓπ, ℓκ)) = (true, true, true, false)\n",
      "└ @ AdvancedHMC C:\\Users\\nicol\\.julia\\packages\\AdvancedHMC\\51xgc\\src\\hamiltonian.jl:47\n",
      "┌ Warning: The current proposal will be rejected due to numerical error(s).\n",
      "│   isfinite.((θ, r, ℓπ, ℓκ)) = (true, true, true, false)\n",
      "└ @ AdvancedHMC C:\\Users\\nicol\\.julia\\packages\\AdvancedHMC\\51xgc\\src\\hamiltonian.jl:47\n",
      "┌ Info: Found initial step size\n",
      "│   ϵ = 0.00625\n",
      "└ @ Turing.Inference C:\\Users\\nicol\\.julia\\packages\\Turing\\Oczpc\\src\\inference\\hmc.jl:188\n",
      "\u001b[32mSampling: 100%|█████████████████████████████████████████| Time: 0:04:52\u001b[39m\n"
     ]
    }
   ],
   "source": [
    "chain_adv = sample(model_adv, NUTS(0.65), 3000, thinning = 3)\n",
    "chain = sample(model, NUTS(0.65), 3000, thinning = 3);"
   ]
  },
  {
   "cell_type": "code",
   "execution_count": 11,
   "id": "39a98bea",
   "metadata": {},
   "outputs": [
    {
     "data": {
      "text/plain": [
       "3×2 Matrix{Float64}:\n",
       " -0.191766   -0.220385\n",
       " -0.123412   -0.140153\n",
       " -0.0681323  -0.0538109"
      ]
     },
     "execution_count": 11,
     "metadata": {},
     "output_type": "execute_result"
    }
   ],
   "source": [
    "hcat(quantile(chain_adv.value[:,3,1][:],[0.025,0.5,0.975]),\n",
    "     quantile(chain.value[:,3,1][:],[0.025,0.5,0.975]))"
   ]
  },
  {
   "cell_type": "code",
   "execution_count": 12,
   "id": "a1e2689a",
   "metadata": {},
   "outputs": [
    {
     "data": {
      "text/html": [
       "<div class=\"data-frame\"><p>9 rows × 3 columns</p><table class=\"data-frame\"><thead><tr><th></th><th>Metals</th><th>w</th><th>w_adv</th></tr><tr><th></th><th title=\"Union{Missing, String}\">String?</th><th title=\"Float64\">Float64</th><th title=\"Float64\">Float64</th></tr></thead><tbody><tr><th>1</th><td>hs_as_m_Log2</td><td>0.0373969</td><td>0.0</td></tr><tr><th>2</th><td>hs_cd_m_Log2</td><td>0.185457</td><td>0.12641</td></tr><tr><th>3</th><td>hs_co_m_Log2</td><td>0.0348735</td><td>0.0</td></tr><tr><th>4</th><td>hs_cs_m_Log2</td><td>0.07788</td><td>0.0</td></tr><tr><th>5</th><td>hs_cu_m_Log2</td><td>0.327031</td><td>0.466527</td></tr><tr><th>6</th><td>hs_hg_m_Log2</td><td>0.0468121</td><td>0.030004</td></tr><tr><th>7</th><td>hs_mn_m_Log2</td><td>0.0615516</td><td>0.000842428</td></tr><tr><th>8</th><td>hs_mo_m_Log2</td><td>0.110266</td><td>0.175419</td></tr><tr><th>9</th><td>hs_pb_m_Log2</td><td>0.118732</td><td>0.200797</td></tr></tbody></table></div>"
      ],
      "text/latex": [
       "\\begin{tabular}{r|ccc}\n",
       "\t& Metals & w & w\\_adv\\\\\n",
       "\t\\hline\n",
       "\t& String? & Float64 & Float64\\\\\n",
       "\t\\hline\n",
       "\t1 & hs\\_as\\_m\\_Log2 & 0.0373969 & 0.0 \\\\\n",
       "\t2 & hs\\_cd\\_m\\_Log2 & 0.185457 & 0.12641 \\\\\n",
       "\t3 & hs\\_co\\_m\\_Log2 & 0.0348735 & 0.0 \\\\\n",
       "\t4 & hs\\_cs\\_m\\_Log2 & 0.07788 & 0.0 \\\\\n",
       "\t5 & hs\\_cu\\_m\\_Log2 & 0.327031 & 0.466527 \\\\\n",
       "\t6 & hs\\_hg\\_m\\_Log2 & 0.0468121 & 0.030004 \\\\\n",
       "\t7 & hs\\_mn\\_m\\_Log2 & 0.0615516 & 0.000842428 \\\\\n",
       "\t8 & hs\\_mo\\_m\\_Log2 & 0.110266 & 0.175419 \\\\\n",
       "\t9 & hs\\_pb\\_m\\_Log2 & 0.118732 & 0.200797 \\\\\n",
       "\\end{tabular}\n"
      ],
      "text/plain": [
       "\u001b[1m9×3 DataFrame\u001b[0m\n",
       "\u001b[1m Row \u001b[0m│\u001b[1m Metals       \u001b[0m\u001b[1m w         \u001b[0m\u001b[1m w_adv       \u001b[0m\n",
       "\u001b[1m     \u001b[0m│\u001b[90m String?      \u001b[0m\u001b[90m Float64   \u001b[0m\u001b[90m Float64     \u001b[0m\n",
       "─────┼──────────────────────────────────────\n",
       "   1 │ hs_as_m_Log2  0.0373969  0.0\n",
       "   2 │ hs_cd_m_Log2  0.185457   0.12641\n",
       "   3 │ hs_co_m_Log2  0.0348735  0.0\n",
       "   4 │ hs_cs_m_Log2  0.07788    0.0\n",
       "   5 │ hs_cu_m_Log2  0.327031   0.466527\n",
       "   6 │ hs_hg_m_Log2  0.0468121  0.030004\n",
       "   7 │ hs_mn_m_Log2  0.0615516  0.000842428\n",
       "   8 │ hs_mo_m_Log2  0.110266   0.175419\n",
       "   9 │ hs_pb_m_Log2  0.118732   0.200797"
      ]
     },
     "execution_count": 12,
     "metadata": {},
     "output_type": "execute_result"
    }
   ],
   "source": [
    "DataFrame(Metals = phthalates,\n",
    "     w = mean(Matrix(chain.value[:,4:12,1]), dims = 1)'[:],\n",
    "     w_adv = mean(Matrix(chain_adv.value[:,13:21,1]), dims = 1)'[:])  \n"
   ]
  }
 ],
 "metadata": {
  "kernelspec": {
   "display_name": "Julia 1.6.1",
   "language": "julia",
   "name": "julia-1.6"
  },
  "language_info": {
   "file_extension": ".jl",
   "mimetype": "application/julia",
   "name": "julia",
   "version": "1.6.1"
  }
 },
 "nbformat": 4,
 "nbformat_minor": 5
}

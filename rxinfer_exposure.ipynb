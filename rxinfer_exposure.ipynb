{
 "cells": [
  {
   "cell_type": "raw",
   "id": "29dd390c",
   "metadata": {},
   "source": [
    "---\n",
    "title: \"RxInfer for bayesian analysis\"\n",
    "author: \"Nicol&oacute; Foppa Pedretti\"\n",
    "format:\n",
    "  gfm:\n",
    "    html-math-method: webtex\n",
    "jupyter: julia\n",
    "---"
   ]
  },
  {
   "cell_type": "code",
   "execution_count": 1,
   "id": "f5cbef84",
   "metadata": {},
   "outputs": [],
   "source": [
    "using RxInfer, DataFrames, Statistics, LinearAlgebra, Plots\n",
    "using JLD2, Distributions, Parquet, StatsBase, StableRNGs"
   ]
  },
  {
   "cell_type": "code",
   "execution_count": 2,
   "id": "1013256f",
   "metadata": {},
   "outputs": [],
   "source": [
    "DT = load_object(\"C:/Users/nicol/Documents/Github_projects/EnvBRAN/clead_dt.jld2\");"
   ]
  },
  {
   "cell_type": "code",
   "execution_count": 3,
   "id": "8e0eb353",
   "metadata": {},
   "outputs": [],
   "source": [
    "enames = names(DT)[vcat([1,2,6],17:73)]\n",
    "Exposure = Matrix{Float64}(DT[:,enames])\n",
    "bw = Vector{Float64}(DT.bw_zscore);"
   ]
  },
  {
   "cell_type": "code",
   "execution_count": 4,
   "id": "74dfa2bf",
   "metadata": {},
   "outputs": [],
   "source": [
    "n = size(Exposure)[1]\n",
    "m = size(Exposure)[2]\n",
    "\n",
    "@model function multivariate_linear_regression(n,m)\n",
    "    a ~ MvNormalMeanCovariance(zeros(m), diagm(ones(m)))\n",
    "    b ~ NormalMeanVariance(0.0,1.0)\n",
    "    W ~ InverseWishart(n+2, diageye(n))\n",
    "    c ~ ones(n)*b\n",
    "    x = datavar(Matrix{Float64})\n",
    "    y = datavar(Vector{Float64})\n",
    "    z ~ x*a+c\n",
    "    y ~ MvNormalMeanCovariance(z, W)\n",
    "\n",
    "end"
   ]
  },
  {
   "cell_type": "code",
   "execution_count": 5,
   "id": "de538d13",
   "metadata": {},
   "outputs": [
    {
     "data": {
      "text/plain": [
       "Inference results:\n",
       "  Posteriors       | available for (a, b, W)\n",
       "  Free Energy:     | Real[-1.46026e5, -1.67359e5, -1.71006e5, -1.71635e5, -1.71745e5, -171764.0, -1.71768e5, -1.71768e5, -1.71769e5, -1.71769e5, -1.71769e5, -1.71769e5, -1.71769e5, -1.71769e5, -1.71769e5, -1.71769e5, -1.71769e5, -1.71769e5, -1.71769e5, -1.71769e5]\n"
      ]
     },
     "execution_count": 5,
     "metadata": {},
     "output_type": "execute_result"
    }
   ],
   "source": [
    "results = inference(\n",
    "    model = multivariate_linear_regression(n,m),\n",
    "    data  = (y = bw, x = Exposure),\n",
    "    initmarginals = (W = InverseWishart(n+2, diageye(n)), ),\n",
    "    returnvars   = (a = KeepLast(), b = KeepLast(), W = KeepLast()),\n",
    "    free_energy = true,\n",
    "    iterations   = 20,\n",
    "    constraints = MeanField()\n",
    ")"
   ]
  },
  {
   "cell_type": "code",
   "execution_count": 6,
   "id": "6b42f831",
   "metadata": {},
   "outputs": [],
   "source": [
    "# truncate the init step\n",
    "# f = plot(results.free_energy[2:end], title =\"Bethe Free Energy convergence\", label = nothing) \n",
    "# plot(f, size = (400, 300))"
   ]
  },
  {
   "cell_type": "code",
   "execution_count": 7,
   "id": "cad8c2da",
   "metadata": {},
   "outputs": [
    {
     "name": "stdout",
     "output_type": "stream",
     "text": [
      "\u001b[1m5×5 DataFrame\u001b[0m\n",
      "\u001b[1m Row \u001b[0m│\u001b[1m Variable          \u001b[0m\u001b[1m Mean       \u001b[0m\u001b[1m CI0025     \u001b[0m\u001b[1m CI0975      \u001b[0m\u001b[1m sig  \u001b[0m\n",
      "\u001b[1m     \u001b[0m│\u001b[90m String            \u001b[0m\u001b[90m Float64    \u001b[0m\u001b[90m Float64    \u001b[0m\u001b[90m Float64     \u001b[0m\u001b[90m Bool \u001b[0m\n",
      "─────┼──────────────────────────────────────────────────────────────\n",
      "   1 │ h_mbmi_None         0.0221921   0.0074149   0.0370993   true\n",
      "   2 │ hs_wgtgain_None     0.0215143   0.0112933   0.0317935   true\n",
      "   3 │ hs_cs_m_Log2       -0.143476   -0.283603   -0.00454701  true\n",
      "   4 │ hs_dep_madj_Log2   -0.0459427  -0.0872681  -0.00477563  true\n",
      "   5 │ hs_dmtp_madj_Log2   0.0512991   0.0267493   0.0752538   true"
     ]
    }
   ],
   "source": [
    "# [[quantile(as[i,:],0.025),mean(as[i,:]),quantile(as[i,:],0.975)] for i in 1:60]\n",
    "as = rand(results.posteriors[:a], 10000)\n",
    "Mean = [mean(as[i,:]) for i in 1:60]\n",
    "LCI = [quantile(as[i,:],0.025) for i in 1:60]\n",
    "UCI = [quantile(as[i,:],0.975) for i in 1:60]\n",
    "DT_results = DataFrame(Variable = enames, Mean = Mean, CI0025 = LCI, CI0975 = UCI)\n",
    "DT_results.sig = sign.(DT_results.CI0025) .== sign.(DT_results.CI0975)\n",
    "show(DT_results[DT_results.sig .== 1,:])"
   ]
  },
  {
   "cell_type": "code",
   "execution_count": 12,
   "id": "8cc4e208",
   "metadata": {},
   "outputs": [
    {
     "name": "stdout",
     "output_type": "stream",
     "text": [
      "\u001b[1m13×4 DataFrame\u001b[0m\n",
      "\u001b[1m Row \u001b[0m│\u001b[1m Names                   \u001b[0m\u001b[1m beta       \u001b[0m\u001b[1m std        \u001b[0m\u001b[1m p_value    \u001b[0m\n",
      "\u001b[1m     \u001b[0m│\u001b[90m String                  \u001b[0m\u001b[90m Float64    \u001b[0m\u001b[90m Float64    \u001b[0m\u001b[90m Float64    \u001b[0m\n",
      "─────┼─────────────────────────────────────────────────────────────\n",
      "   1 │ h_mbmi_None               0.0221632  0.0076396   0.00190246\n",
      "   2 │ hs_wgtgain_None           0.0214829  0.0051794   1.82997e-5\n",
      "   3 │ hs_cs_m_Log2             -0.142373   0.0696021   0.0205396\n",
      "   4 │ h_temperature_preg_None   0.0170185  0.00991685  0.043234\n",
      "   5 │ hs_dde_madj_Log2         -0.0336264  0.0188159   0.037119\n",
      "   6 │ hs_pcb170_madj_Log2       0.0736856  0.0378712   0.0259942\n",
      "   7 │ hs_dep_madj_Log2         -0.0461144  0.0208658   0.0136707\n",
      "   8 │ hs_detp_madj_Log2        -0.01432    0.00816437  0.0398809\n",
      "   9 │ hs_dmtp_madj_Log2         0.0513992  0.0106629   8.34541e-7\n",
      "  10 │ hs_pfhxs_m_Log2           0.0524051  0.0267013   0.0249905\n",
      "  11 │ hs_pfos_m_Log2           -0.068099   0.0331466   0.0201023\n",
      "  12 │ hs_mepa_madj_Log2        -0.0372125  0.0192635   0.026844\n",
      "  13 │ hs_sumDEHP_madj_Log2     -0.0691889  0.0293367   0.00927737"
     ]
    }
   ],
   "source": [
    "betas = vcat(mean(results.posteriors[:b]),mean(results.posteriors[:a]))\n",
    "stds = vcat(std(results.posteriors[:b]),diag(std(results.posteriors[:a])))\n",
    "\n",
    "DT_bayes = DataFrame(Names = vcat(\"intercept\",enames), beta = betas, std = stds, \n",
    "                   p_value = cdf.(TDist(size(Exposure,1)-size(Exposure,2)), -abs.(betas./stds)))\n",
    "show(DT_bayes[DT_bayes.p_value .< 0.05,:])"
   ]
  },
  {
   "cell_type": "code",
   "execution_count": 13,
   "id": "6c390950",
   "metadata": {},
   "outputs": [
    {
     "name": "stdout",
     "output_type": "stream",
     "text": [
      "\u001b[1m10×4 DataFrame\u001b[0m\n",
      "\u001b[1m Row \u001b[0m│\u001b[1m Names               \u001b[0m\u001b[1m beta       \u001b[0m\u001b[1m std        \u001b[0m\u001b[1m p_value    \u001b[0m\n",
      "\u001b[1m     \u001b[0m│\u001b[90m String              \u001b[0m\u001b[90m Float32    \u001b[0m\u001b[90m Float32    \u001b[0m\u001b[90m Float64    \u001b[0m\n",
      "─────┼─────────────────────────────────────────────────────────\n",
      "   1 │ h_mbmi_None           0.0220775  0.00728344  0.00125125\n",
      "   2 │ hs_wgtgain_None       0.0216013  0.0049429   6.8968e-6\n",
      "   3 │ hs_cs_m_Log2         -0.15808    0.0692241   0.0113085\n",
      "   4 │ hs_dde_madj_Log2     -0.0342088  0.0190084   0.0361162\n",
      "   5 │ hs_pcb170_madj_Log2   0.0786626  0.0423215   0.0316912\n",
      "   6 │ hs_dep_madj_Log2     -0.0468959  0.0202755   0.0104703\n",
      "   7 │ hs_detp_madj_Log2    -0.0144531  0.0082087   0.0393059\n",
      "   8 │ hs_dmtp_madj_Log2     0.0517077  0.0117527   6.03949e-6\n",
      "   9 │ hs_pfhxs_m_Log2       0.0540166  0.0263145   0.020187\n",
      "  10 │ hs_mepa_madj_Log2    -0.0380767  0.0192342   0.0240174"
     ]
    }
   ],
   "source": [
    "X_tmp = Matrix{Float32}(hcat(ones(size(DT)[1]),DT[:,enames]))\n",
    "Y_tmp = convert.(Float32, DT[:,:bw_zscore])\n",
    "\n",
    "β = X_tmp\\Y_tmp\n",
    "σ² = sum((Y_tmp - X_tmp*β).^2)/(size(X_tmp,1)-size(X_tmp,2))\n",
    "Σ = σ²*inv(X_tmp'*X_tmp)\n",
    "std_coeff = sqrt.(diag(Σ))\n",
    "\n",
    "DT_inf = DataFrame(Names = vcat(\"intercept\",enames), beta = β, std = std_coeff, \n",
    "                   p_value = cdf.(TDist(size(X_tmp,1)-size(X_tmp,2)), -abs.(β./std_coeff)))\n",
    "show(DT_inf[DT_inf.p_value .< 0.05,:])"
   ]
  }
 ],
 "metadata": {
  "kernelspec": {
   "display_name": "Julia 1.6.1",
   "language": "julia",
   "name": "julia-1.6"
  },
  "language_info": {
   "file_extension": ".jl",
   "mimetype": "application/julia",
   "name": "julia",
   "version": "1.6.1"
  }
 },
 "nbformat": 4,
 "nbformat_minor": 5
}
